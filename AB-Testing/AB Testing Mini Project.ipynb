{
 "cells": [
  {
   "cell_type": "markdown",
   "id": "e93a2b24-9d28-4af9-9c99-0daff18c3e89",
   "metadata": {},
   "source": [
    "# Mini Python Project: Simulating A/B Testing for a Recommendation System"
   ]
  },
  {
   "cell_type": "code",
   "execution_count": 1,
   "id": "0cac1021-dd27-4c86-9fc4-a7fb3f956ec9",
   "metadata": {},
   "outputs": [],
   "source": [
    "# 🎯 Objective:\n",
    "# Simulate user interactions with two versions of a recommendation model and perform A/B testing to determine if the new model improves conversion rate."
   ]
  },
  {
   "cell_type": "code",
   "execution_count": 3,
   "id": "a79cc020-d53d-4131-a4d0-68401ed17371",
   "metadata": {},
   "outputs": [],
   "source": [
    "#  Required Libraries:\n",
    "import numpy as np\n",
    "import pandas as pd\n",
    "import matplotlib.pyplot as plt\n",
    "from scipy.stats import ttest_ind"
   ]
  },
  {
   "cell_type": "code",
   "execution_count": 7,
   "id": "903dc917-5330-4e08-911e-a1115458f3c7",
   "metadata": {},
   "outputs": [
    {
     "data": {
      "text/html": [
       "<div>\n",
       "<style scoped>\n",
       "    .dataframe tbody tr th:only-of-type {\n",
       "        vertical-align: middle;\n",
       "    }\n",
       "\n",
       "    .dataframe tbody tr th {\n",
       "        vertical-align: top;\n",
       "    }\n",
       "\n",
       "    .dataframe thead th {\n",
       "        text-align: right;\n",
       "    }\n",
       "</style>\n",
       "<table border=\"1\" class=\"dataframe\">\n",
       "  <thead>\n",
       "    <tr style=\"text-align: right;\">\n",
       "      <th></th>\n",
       "      <th>user_id</th>\n",
       "      <th>group</th>\n",
       "      <th>converted</th>\n",
       "    </tr>\n",
       "  </thead>\n",
       "  <tbody>\n",
       "    <tr>\n",
       "      <th>0</th>\n",
       "      <td>1</td>\n",
       "      <td>A</td>\n",
       "      <td>0</td>\n",
       "    </tr>\n",
       "    <tr>\n",
       "      <th>1</th>\n",
       "      <td>2</td>\n",
       "      <td>B</td>\n",
       "      <td>0</td>\n",
       "    </tr>\n",
       "    <tr>\n",
       "      <th>2</th>\n",
       "      <td>3</td>\n",
       "      <td>A</td>\n",
       "      <td>0</td>\n",
       "    </tr>\n",
       "    <tr>\n",
       "      <th>3</th>\n",
       "      <td>4</td>\n",
       "      <td>A</td>\n",
       "      <td>0</td>\n",
       "    </tr>\n",
       "    <tr>\n",
       "      <th>4</th>\n",
       "      <td>5</td>\n",
       "      <td>A</td>\n",
       "      <td>0</td>\n",
       "    </tr>\n",
       "  </tbody>\n",
       "</table>\n",
       "</div>"
      ],
      "text/plain": [
       "   user_id group  converted\n",
       "0        1     A          0\n",
       "1        2     B          0\n",
       "2        3     A          0\n",
       "3        4     A          0\n",
       "4        5     A          0"
      ]
     },
     "execution_count": 7,
     "metadata": {},
     "output_type": "execute_result"
    }
   ],
   "source": [
    "# Step 1: Generate Synthetic Data\n",
    "np.random.seed(42)\n",
    "\n",
    "# simulate 10,000 users\n",
    "n_users = 10000\n",
    "\n",
    "# Assign users randomly to Group A or B\n",
    "groups = np.random.choice(['A', 'B'], size=n_users)\n",
    "\n",
    "# Simulate conversion probabilities\n",
    "# Control group (A): 3% conversion\n",
    "# Test group (B): 4.2% conversion (hypothetically better)\n",
    "conversion_prob = {'A':0.03, 'B':0.042}\n",
    "\n",
    "# Simulate whether each user converted (1 = yes, 0 = no)\n",
    "conversions = np.array([np.random.rand() < conversion_prob[group] for group in groups])\n",
    "\n",
    "# Create DataFrame\n",
    "df = pd.DataFrame({'user_id': range(1,n_users + 1), 'group': groups, 'converted': conversions.astype(int)})\n",
    "\n",
    "df.head()"
   ]
  },
  {
   "cell_type": "code",
   "execution_count": 10,
   "id": "625afb09-a9f7-44f9-920b-75a484ff423e",
   "metadata": {},
   "outputs": [
    {
     "name": "stdout",
     "output_type": "stream",
     "text": [
      "       conversion_rate  count  sum\n",
      "group                             \n",
      "A             0.028127   5013  141\n",
      "B             0.040906   4987  204\n"
     ]
    }
   ],
   "source": [
    "# Step 2: Compare Conversion Rates\n",
    "group_summary = df.groupby('group')['converted'].agg(['mean','count','sum'])\n",
    "group_summary.rename(columns={'mean':'conversion_rate'}, inplace=True)\n",
    "print(group_summary)"
   ]
  },
  {
   "cell_type": "code",
   "execution_count": 12,
   "id": "ae403c85-64b0-4232-b519-d55eb477b47a",
   "metadata": {},
   "outputs": [
    {
     "data": {
      "image/png": "[encoded data removed]",
      "text/plain": [
       "<Figure size 640x480 with 1 Axes>"
      ]
     },
     "metadata": {},
     "output_type": "display_data"
    }
   ],
   "source": [
    "# Step 3: Visualize the Difference\n",
    "group_summary['conversion_rate'].plot(kind='bar', color=['red', 'black'])\n",
    "plt.title('Conversion Rate by Group')\n",
    "plt.ylabel('Conversion Rate')\n",
    "plt.xlabel('Group')\n",
    "plt.show()"
   ]
  },
  {
   "cell_type": "code",
   "execution_count": 16,
   "id": "b0842eae-2e4b-4348-b870-41ee58d2ad02",
   "metadata": {},
   "outputs": [
    {
     "name": "stdout",
     "output_type": "stream",
     "text": [
      "T-statistic: -3.5028\n",
      "P-value: 0.0005\n",
      "✅ Statistically significant difference. Reject null hypothesis.\n"
     ]
    }
   ],
   "source": [
    "# Step 4: Statistical Significance (A/B Test)\n",
    "\n",
    "#seperate data\n",
    "conversions_A = df[df['group']=='A']['converted']\n",
    "conversions_B = df[df['group']=='B']['converted']\n",
    "\n",
    "# Two-sample t-test\n",
    "t_stat, p_value = ttest_ind(conversions_A,conversions_B)\n",
    "\n",
    "print(f\"T-statistic: {t_stat:.4f}\")\n",
    "print(f\"P-value: {p_value:.4f}\")\n",
    "\n",
    "if p_value < 0.05:\n",
    "    print(\"✅ Statistically significant difference. Reject null hypothesis.\")\n",
    "else:\n",
    "    print(\"❌ No significant difference. Fail to reject null hypothesis.\")"
   ]
  },
  {
   "cell_type": "code",
   "execution_count": null,
   "id": "c5191cc1-1b30-4cbd-9178-29b3d21bd918",
   "metadata": {},
   "outputs": [],
   "source": []
  }
 ],
 "metadata": {
  "kernelspec": {
   "display_name": "Python 3 (ipykernel)",
   "language": "python",
   "name": "python3"
  },
  "language_info": {
   "codemirror_mode": {
    "name": "ipython",
    "version": 3
   },
   "file_extension": ".py",
   "mimetype": "text/x-python",
   "name": "python",
   "nbconvert_exporter": "python",
   "pygments_lexer": "ipython3",
   "version": "3.13.5"
  }
 },
 "nbformat": 4,
 "nbformat_minor": 5
}
