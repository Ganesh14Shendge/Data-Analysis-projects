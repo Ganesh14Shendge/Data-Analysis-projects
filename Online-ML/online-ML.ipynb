{
 "cells": [
  {
   "cell_type": "code",
   "execution_count": 5,
   "id": "09109ece",
   "metadata": {},
   "outputs": [],
   "source": [
    "# Online vs Batch Learning (Simple Python Script)\n",
    "\n",
    "import numpy as np\n",
    "from sklearn.linear_model import SGDClassifier\n",
    "from sklearn.metrics import accuracy_score\n",
    "\n",
    "\n",
    "# Create dataset\n",
    "\n",
    "X = np.array([[0.1,0.2],\n",
    "             [0.2,0.1],\n",
    "             [0.9,0.8],\n",
    "             [0.8,0.9]  \n",
    "            ])\n",
    "\n",
    "y = np.array([0,0,1,1])     # Labels"
   ]
  },
  {
   "cell_type": "code",
   "execution_count": 6,
   "id": "de3b4f3c",
   "metadata": {},
   "outputs": [
    {
     "name": "stdout",
     "output_type": "stream",
     "text": [
      "Batch Learning Accuracy: 1.0\n"
     ]
    }
   ],
   "source": [
    "# Batch Learning\n",
    "\n",
    "model_batch = SGDClassifier(loss='log_loss', max_iter=1000, tol=1e-3)\n",
    "model_batch.fit(X,y)\n",
    "print(\"Batch Learning Accuracy:\", accuracy_score(y,model_batch.predict(X)))"
   ]
  },
  {
   "cell_type": "code",
   "execution_count": 7,
   "id": "4ed7d132",
   "metadata": {},
   "outputs": [
    {
     "name": "stdout",
     "output_type": "stream",
     "text": [
      "Online Learning Accuracy: 0.5\n"
     ]
    }
   ],
   "source": [
    "# Online Learning(Incremental with partial_fit)\n",
    "\n",
    "model_online = SGDClassifier(loss='log_loss')\n",
    "\n",
    "model_online.partial_fit(X[:2], y[:2], classes=np.array([0,1])) # First batch\n",
    "model_online.partial_fit(X[2:], y[2:])  # Second batch\n",
    "\n",
    "print(\"Online Learning Accuracy:\", accuracy_score(y, model_online.predict(X)))"
   ]
  },
  {
   "cell_type": "code",
   "execution_count": null,
   "id": "75cabff4",
   "metadata": {},
   "outputs": [],
   "source": []
  }
 ],
 "metadata": {
  "kernelspec": {
   "display_name": "base",
   "language": "python",
   "name": "python3"
  },
  "language_info": {
   "codemirror_mode": {
    "name": "ipython",
    "version": 3
   },
   "file_extension": ".py",
   "mimetype": "text/x-python",
   "name": "python",
   "nbconvert_exporter": "python",
   "pygments_lexer": "ipython3",
   "version": "3.13.5"
  }
 },
 "nbformat": 4,
 "nbformat_minor": 5
}
